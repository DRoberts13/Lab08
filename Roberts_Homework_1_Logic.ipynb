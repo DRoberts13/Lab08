{
  "nbformat": 4,
  "nbformat_minor": 0,
  "metadata": {
    "colab": {
      "provenance": [],
      "include_colab_link": true
    },
    "kernelspec": {
      "name": "python3",
      "display_name": "Python 3"
    },
    "language_info": {
      "name": "python"
    }
  },
  "cells": [
    {
      "cell_type": "markdown",
      "metadata": {
        "id": "view-in-github",
        "colab_type": "text"
      },
      "source": [
        "<a href=\"https://colab.research.google.com/github/DRoberts13/Lab08/blob/main/Roberts_Homework_1_Logic.ipynb\" target=\"_parent\"><img src=\"https://colab.research.google.com/assets/colab-badge.svg\" alt=\"Open In Colab\"/></a>"
      ]
    },
    {
      "cell_type": "markdown",
      "source": [
        "# Homework 1 Logic\n",
        "\n"
      ],
      "metadata": {
        "id": "Jib5KDBYJ0K9"
      }
    },
    {
      "cell_type": "markdown",
      "source": [
        "**Problem 1.** You meet two more inhabitants of the island discussed in class named Gertrude and Heathcliff.  Gertrude states, \"We are from different tribes.\"  Heathcliff then adds, \"Gertrude is a Liar.\"  To which tribe does each belong? (The two tribes on the island are the Liars and the Truth Tellers.)\n",
        "\n",
        "\\begin{align}\n",
        "  \\begin{array}{|c|c|c|c|}\\hline\n",
        "    %\n",
        "    % Each row of the table consists of data separated by \"&\" symbols.\n",
        "    % Each row must end with \"\\\\\" to cause a newline.  A trailing\n",
        "    % \\hline will cause a line to be drawn under the row.  A double\n",
        "    % \\hline is often used to separate the table header from the rest\n",
        "    % of the table.\n",
        "    %\n",
        "    \\text{Gert} & \\text{Heath} & \\text{\"We are from different tribes\"} & \\text{\"Gertrude is a liar\"} & \\text{Gerts's perspective} & \\text{Heaths's perspective} \\\\\\hline\\hline\n",
        "    T& T& T& F& T& F\\\\\\hline\n",
        "    T& F& T& T& T& T\\\\\\hline\n",
        "    F& T& F& T& F& T\\\\\\hline\n",
        "    F& F& F& F& F& F\\\\\\hline\n",
        "  \\end{array}\n",
        "\\end{align}"
      ],
      "metadata": {
        "id": "iqM4izmAWaKB"
      }
    },
    {
      "cell_type": "markdown",
      "source": [
        "**Problem 2.** Construct truth tables for,\n",
        "1.  a∨b⇒¬b\n",
        "\n",
        "\\begin{align}\n",
        "  \\begin{array}{|c|c|c|c|}\\hline\n",
        "    %\n",
        "    % Each row of the table consists of data separated by \"&\" symbols.\n",
        "    % Each row must end with \"\\\\\" to cause a newline.  A trailing\n",
        "    % \\hline will cause a line to be drawn under the row.  A double\n",
        "    % \\hline is often used to separate the table header from the rest\n",
        "    % of the table.\n",
        "    %\n",
        "    \\text{A} & \\text{B} & \\text{avb} & \\text{¬b} & \\text{a∨b⇒¬b} \\\\\\hline\\hline\n",
        "    T& T& T& F& T\\\\\\hline\n",
        "    T& F& T& T& F\\\\\\hline\n",
        "    F& T& T& F& T\\\\\\hline\n",
        "    F& F& F& T& F\\\\\\hline\n",
        "  \\end{array}  \n",
        "\\end{align}\n",
        "\n",
        "> 2.  (¬c ⋀  b) ⋁  (a⇒ ¬d )\n",
        "\n",
        "\\begin{align}\n",
        "  \\begin{array}{|c|c|c|c|}\\hline\n",
        "    %\n",
        "    % Each row of the table consists of data separated by \"&\" symbols.\n",
        "    % Each row must end with \"\\\\\" to cause a newline.  A trailing\n",
        "    % \\hline will cause a line to be drawn under the row.  A double\n",
        "    % \\hline is often used to separate the table header from the rest\n",
        "    % of the table.\n",
        "    %\n",
        "    \\text{A} & \\text{B} & \\text{C} & \\text{D} &\\text{¬c}& \\text{¬c⋀b} & \\text{a⇒ ¬d} &\\text{(¬c ⋀  b) ⋁  (a⇒ ¬d )}\\\\\\hline\\hline\n",
        "    T& T& T& T& F& F& F& F\\\\\\hline\n",
        "    T& T& T& F& F& F& T& T\\\\\\hline\n",
        "    T& T& F& T& T& T& F& T\\\\\\hline\n",
        "    T& T& F& F& T& T& T& T\\\\\\hline\n",
        "    T& F& T& T& F& F& F& F\\\\\\hline\n",
        "    T& F& T& F& F& F& T& T\\\\\\hline\n",
        "    T& F& F& T& T& F& F& F\\\\\\hline\n",
        "    T& F& F& F& T& F& T& T\\\\\\hline\n",
        "    F& T& T& T& F& F& F& F\\\\\\hline\n",
        "    F& T& T& F& F& F& T& T\\\\\\hline\n",
        "    F& T& F& T& T& T& F& T\\\\\\hline\n",
        "    F& T& F& F& T& T& T& T\\\\\\hline\n",
        "    F& F& T& T& F& F& F& F\\\\\\hline\n",
        "    F& F& T& F& F& F& T& T\\\\\\hline\n",
        "    F& F& F& T& T& F& F& F\\\\\\hline\n",
        "    F& F& F& F& T& F& T& T\\\\\\hline\n",
        "  \\end{array}  \n",
        "\\end{align}"
      ],
      "metadata": {
        "id": "eTo6jwV_9p06"
      }
    },
    {
      "cell_type": "markdown",
      "source": [
        "**Problem 3.** Using truth tables determine which of the following are equivalent\n",
        "\n",
        "* (a∨b)∧c,\n",
        "\n",
        "\\begin{align}\n",
        "  \\begin{array}{|c|c|c|c|}\\hline\n",
        "    %\n",
        "    % Each row of the table consists of data separated by \"&\" symbols.\n",
        "    % Each row must end with \"\\\\\" to cause a newline.  A trailing\n",
        "    % \\hline will cause a line to be drawn under the row.  A double\n",
        "    % \\hline is often used to separate the table header from the rest\n",
        "    % of the table.\n",
        "    %\n",
        "    \\text{A} & \\text{B} & \\text{C} & \\text{(a∨b)∧c} \\\\\\hline\\hline\n",
        "    T& T& T& T\\\\\\hline\n",
        "    T& T& F& F\\\\\\hline\n",
        "    T& F& T& T\\\\\\hline\n",
        "    T& F& F& F\\\\\\hline\n",
        "    F& T& T& T\\\\\\hline\n",
        "    F& T& F& F\\\\\\hline\n",
        "    F& F& T& F\\\\\\hline\n",
        "    F& F& F& F\\\\\\hline\n",
        "  \\end{array}  \n",
        "\\end{align}\n",
        "\n",
        "* (c∧a)∨(c∧b),\n",
        "\n",
        "\\begin{align}\n",
        "  \\begin{array}{|c|c|c|c|}\\hline\n",
        "    %\n",
        "    % Each row of the table consists of data separated by \"&\" symbols.\n",
        "    % Each row must end with \"\\\\\" to cause a newline.  A trailing\n",
        "    % \\hline will cause a line to be drawn under the row.  A double\n",
        "    % \\hline is often used to separate the table header from the rest\n",
        "    % of the table.\n",
        "    %\n",
        "    \\text{A} & \\text{B} & \\text{C} & \\text{(c∧a)∨(c∧b)} \\\\\\hline\\hline\n",
        "    T& T& T& T\\\\\\hline\n",
        "    T& T& F& F\\\\\\hline\n",
        "    T& F& T& T\\\\\\hline\n",
        "    T& F& F& F\\\\\\hline\n",
        "    F& T& T& T\\\\\\hline\n",
        "    F& T& F& F\\\\\\hline\n",
        "    F& F& T& F\\\\\\hline\n",
        "    F& F& F& F\\\\\\hline\n",
        "  \\end{array}  \n",
        "\\end{align}\n",
        "\n",
        "* ¬((¬a∧¬b)∨¬c)\n",
        "\n",
        "\\begin{align}\n",
        "  \\begin{array}{|c|c|c|c|}\\hline\n",
        "    %\n",
        "    % Each row of the table consists of data separated by \"&\" symbols.\n",
        "    % Each row must end with \"\\\\\" to cause a newline.  A trailing\n",
        "    % \\hline will cause a line to be drawn under the row.  A double\n",
        "    % \\hline is often used to separate the table header from the rest\n",
        "    % of the table.\n",
        "    %\n",
        "    \\text{A} & \\text{B} & \\text{C} & \\text{¬((¬a∧¬b)∨¬c)} \\\\\\hline\\hline\n",
        "    T& T& T& F\\\\\\hline\n",
        "    T& T& F& T\\\\\\hline\n",
        "    T& F& T& F\\\\\\hline\n",
        "    T& F& F& T\\\\\\hline\n",
        "    F& T& T& F\\\\\\hline\n",
        "    F& T& F& T\\\\\\hline\n",
        "    F& F& T& F\\\\\\hline\n",
        "    F& F& F& T\\\\\\hline\n",
        "  \\end{array}  \n",
        "\\end{align}\n",
        "\n",
        "\n",
        "1 and 2 are the same however number 3 is not."
      ],
      "metadata": {
        "id": "-idRMVAyNUBU"
      }
    },
    {
      "cell_type": "markdown",
      "source": [
        "**Problem 4.** Calculate the bitwise $AND$, the bitwise $OR$, and the bitwise $XOR$ of the following pairs of bytes, or sequence of bytes\n",
        "\n",
        "1. $01111111$ and $11101001$\n",
        "\n",
        "Bitwise AND: 01111111 & 11101001 = 01101001\\\n",
        "Bitwise OR: 01111111 | 11101001 = 11111111\\\n",
        "Bitwise XOR: 01111111 ^ 11101001 = 10010110\n",
        "\n",
        "2. $1110010111111010$ and $0101110101100011$\n",
        "\n",
        "Bitwise AND: 1110010111111010 & 0101110101100011 = 0100010101100010\\\n",
        "Bitwise OR: 1110010111111010 | 0101110101100011 = 1111110111111011\\\n",
        "Bitwise XOR: 1110010111111010 ^ 0101110101100011 = 1011100010011001"
      ],
      "metadata": {
        "id": "tBFpIfHwOOfc"
      }
    },
    {
      "cell_type": "markdown",
      "source": [
        "**Problem 5.** Let $p$, be the proposition \"My bicycle needs a tire replaced,\" $q$, be the proposition ”I will go cycling”, and, $r$, be the proposition \"Rain is in the forecast.\"\n",
        "\n",
        "a.   Express each of these compound propositions using plain English sentences.\n",
        "\n",
        "1. ¬p∨q\\\n",
        "Either my bike does not need a tire replaced, or I will go cycling\n",
        "2. ¬p⇒¬q\\\n",
        "If my bike does not need a tire replaced then I will not go cycling\n",
        "3. (¬p∧r)⇒q\\\n",
        "If my bikedoes not need a tire replaced and there is rain in the forecast, then I will go cycling\n",
        "4. (¬p∧q)∨r\\\n",
        "Either my bike does not need a tire replaced and I will go cycling, and/or there is rain in the forecast\n",
        "\n",
        "b.   Write these compound propositions using $p$, $q$ and, $r$ and logical connectives (including negation).\n",
        "\n",
        "1. If my bicycle tire does not replacement I will go cycling.\\\n",
        "¬p⇒q\n",
        "2. My bicycle tire does not replacement, there is rain in the forecast but I will go cycling.\\\n",
        "¬p∧r∧q\n",
        "3. Whenever there is rain in the forecast, I do not go cycling.\\\n",
        " r⇒¬q\n",
        "4. If there is rain in the forecast or my tire needs replacement I will not go cycling.\\\n",
        "(r∨¬p)⇒¬q\n",
        "5. Rain is not forecast whenever I go cycling.\\\n",
        "¬q⇒r\n",
        "6. Rain is not forecast and my tire does not need replacement whenever I go cycling.\\\n",
        "(¬q∧¬p)⇒r\n",
        "\n",
        "\n",
        "\n",
        "\n",
        "\n",
        "\n",
        "\n",
        "\n"
      ],
      "metadata": {
        "id": "Rf1euIvrQK3f"
      }
    },
    {
      "cell_type": "markdown",
      "source": [
        "Source For $\\LaTeX{}$ format:\n",
        "\n",
        "https://www.math-cs.gordon.edu/courses/mat231/handouts/truth-table-latex.tex"
      ],
      "metadata": {
        "id": "OkxeO53F_Ry8"
      }
    }
  ]
}